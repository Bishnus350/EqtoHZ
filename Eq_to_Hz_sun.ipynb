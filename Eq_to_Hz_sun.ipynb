{
 "cells": [
  {
   "cell_type": "code",
   "execution_count": 1058,
   "metadata": {},
   "outputs": [],
   "source": [
    "# for Julian date for 11 Nov 2021 at 11:49 AM Taiwan time\n",
    "# if months are january and february then year'=year-1 , month'=month+12\n",
    "import math\n",
    "import numpy as np\n",
    "year=2021\n",
    "month=11\n",
    "day=21\n",
    "hour=2\n",
    "minute=8\n",
    "second=30"
   ]
  },
  {
   "cell_type": "code",
   "execution_count": 1059,
   "metadata": {},
   "outputs": [
    {
     "data": {
      "text/plain": [
       "21.08923611111111"
      ]
     },
     "execution_count": 1059,
     "metadata": {},
     "output_type": "execute_result"
    }
   ],
   "source": [
    "day_fraction = day+(hour/24 )+ (minute / 1440)+ (second / 86400 )\n",
    "day_fraction"
   ]
  },
  {
   "cell_type": "code",
   "execution_count": 1060,
   "metadata": {},
   "outputs": [
    {
     "data": {
      "text/plain": [
       "2459539.5892361114"
      ]
     },
     "execution_count": 1060,
     "metadata": {},
     "output_type": "execute_result"
    }
   ],
   "source": [
    "#Simple calculation\n",
    "day_fraction=day_fraction\n",
    "# The day is later to 15 october 1582. So\n",
    "A=math.floor(year/100)\n",
    "#math.floor(A)\n",
    "B=2-A+(A/4)\n",
    "C=math.trunc(365.25*year)# year is +ve. so,D=math.trunc(D)\n",
    "D=math.trunc(30.6001*(11+1))\n",
    "JD=B+C+D+day_fraction+1720994.5\n",
    "JD #2459529.65937 from https://www.aavso.org/jd-calculator"
   ]
  },
  {
   "cell_type": "code",
   "execution_count": 1061,
   "metadata": {},
   "outputs": [
    {
     "name": "stdout",
     "output_type": "stream",
     "text": [
      "2459539.5892361114\n"
     ]
    }
   ],
   "source": [
    "year=2021\n",
    "months=11\n",
    "day=day_fraction #UT\n",
    "def date_to_jd(year,month,day):\n",
    "    # Convert a date to Julian Day.\n",
    "    # Algorithm from 'Practical Astronomy with your Calculator or Spreadsheet', \n",
    "    # 4th ed., Duffet-Smith and Zwart, 2011.\n",
    "    # This function extracted from https://gist.github.com/jiffyclub/1294443\n",
    "    if month == 1 or month == 2:\n",
    "        yearp = year - 1\n",
    "        monthp = month + 12\n",
    "    else:\n",
    "        yearp = year\n",
    "        monthp = month\n",
    "    # this checks where we are in relation to October 15, 1582, the beginning\n",
    "    # of the Gregorian calendar.\n",
    "    if ((year < 1582) or\n",
    "        (year == 1582 and month < 10) or\n",
    "        (year == 1582 and month == 10 and day < 15)):\n",
    "        # before start of Gregorian calendar\n",
    "        B = 0\n",
    "    else:\n",
    "        # after start of Gregorian calendar\n",
    "        A = math.trunc(yearp / 100.)\n",
    "        B = 2 - A + math.trunc(A / 4.)\n",
    "\n",
    "    if yearp < 0:\n",
    "        C = math.trunc((365.25 * yearp) - 0.75)\n",
    "    else:\n",
    "        C = math.trunc(365.25 * yearp)\n",
    "    D = math.trunc(30.6001 * (monthp + 1))\n",
    "    jd = B + C + D + day + 1720994.5\n",
    "    return jd \n",
    "jd=date_to_jd(year,month,day)\n",
    "print(jd)"
   ]
  },
  {
   "cell_type": "code",
   "execution_count": 1062,
   "metadata": {},
   "outputs": [
    {
     "name": "stdout",
     "output_type": "stream",
     "text": [
      "J2000 = 7994.58923611138\n",
      "Julian century 0.21887992432885367\n"
     ]
    }
   ],
   "source": [
    "J2000=JD-2451545.0\n",
    "t=J2000/36525\n",
    "print(\"J2000 =\",J2000)\n",
    "print(\"Julian century\",t) #Julian century"
   ]
  },
  {
   "cell_type": "code",
   "execution_count": 1065,
   "metadata": {},
   "outputs": [
    {
     "name": "stdout",
     "output_type": "stream",
     "text": [
      "UT= 2.1679999999999993 hour\n"
     ]
    }
   ],
   "source": [
    "# calculation of Local Sideral Time(lst)\n",
    "d=J2000\n",
    "long= 121.1919847222# longitude of observing site 121deg 11min 31.145sec\n",
    "lat= 24.9705 # latitude of observing sites 24 deg 58 min 14.148 sec\n",
    "UT= 10.168-8  # Ut of Taiwan +8 hour Julian day start at midnight 12:00\n",
    "print(\"UT=\",UT,\"hour\")\n"
   ]
  },
  {
   "cell_type": "code",
   "execution_count": 1066,
   "metadata": {},
   "outputs": [
    {
     "name": "stdout",
     "output_type": "stream",
     "text": [
      "LST= 14.273832041669184\n"
     ]
    }
   ],
   "source": [
    "theta0=(6.697374558 + (2400.051336*t)+ (0.000025862*t*t))%24 #hour\n",
    "t0=theta0\n",
    "gst=t0+UT*1.00273790935\n",
    "longitude= long/15\n",
    "LST=gst+longitude # longitude of observing site\n",
    "lst=LST #LST<0, add 24 \n",
    "print('LST=',lst) #15h 16 min 56 sec"
   ]
  },
  {
   "cell_type": "code",
   "execution_count": 1067,
   "metadata": {},
   "outputs": [
    {
     "name": "stdout",
     "output_type": "stream",
     "text": [
      "Local sidereal time = 214.01488152767433\n",
      "LST= 14.267658768511621 hour\n"
     ]
    }
   ],
   "source": [
    "LST = (100.46 + (0.985647 * d) + long + 15*UT)%360 # http://www.stargazing.net/kepler/altaz.html#twig00\n",
    "#d is the days from J2000, including the fraction ofa day\n",
    "#UT is the universal time in decimal hours\n",
    "#long is your longitude in decimal degrees, East positive.\n",
    "print(\"Local sidereal time =\",LST)\n",
    "\n",
    "print(\"LST=\",LST/15,\"hour\")  #change to degree\n",
    "\n"
   ]
  },
  {
   "cell_type": "code",
   "execution_count": 1069,
   "metadata": {},
   "outputs": [
    {
     "name": "stdout",
     "output_type": "stream",
     "text": [
      "RA of the Sun 15.788508333333333 decimal hour\n",
      "RA of the Sun 236.82762499999998 decimal degree\n",
      "DEC of the Sun -19.945916666666665 decimal degree\n"
     ]
    }
   ],
   "source": [
    "RAsun= (15+(47/60)+(18.63/3600)) # RA of the Sun from https://ssd.jpl.nasa.gov/horizons/app.html#/ 15h 6 min 12.85sec\n",
    "y1=RAsun*15 #decimal degree\n",
    "print(\"RA of the Sun\",RAsun,\"decimal hour\")# decimal hour\n",
    "print(\"RA of the Sun\",y1,\"decimal degree\")\n",
    "DECsun= -(19+56/60+45.3/3600)\n",
    "print(\"DEC of the Sun\",DECsun,\"decimal degree\")\n"
   ]
  },
  {
   "cell_type": "code",
   "execution_count": 1070,
   "metadata": {},
   "outputs": [
    {
     "name": "stdout",
     "output_type": "stream",
     "text": [
      "Hour angle in decimal degree= -22.81274347232565\n"
     ]
    }
   ],
   "source": [
    "HA1=LST-y1\n",
    "HA=HA1\n",
    "print(\"Hour angle in decimal degree=\", HA)"
   ]
  },
  {
   "cell_type": "code",
   "execution_count": 1071,
   "metadata": {},
   "outputs": [
    {
     "name": "stdout",
     "output_type": "stream",
     "text": [
      "---------------------------\n",
      "Longitude= 121.1919847222\n",
      "Latitude= 24.9705\n",
      "Universal time= 2.1679999999999993\n",
      "---------------------------\n",
      "---------------------------\n",
      "Azimuth in  decimal degree is= 151.63459276082378 degree\n",
      "Altitude in decimal degree is= 39.90218171899077  degree\n"
     ]
    }
   ],
   "source": [
    "LAT=24.970596667 #24d 58' 14.148''\n",
    "DEC=DECsun\n",
    "HA=HA1\n",
    "sin_ALT=np.sin(DEC*np.pi/180)*np.sin(LAT*np.pi/180)+ np.cos(DEC*np.pi/180)*np.cos(LAT*np.pi/180)*np.cos(HA*np.pi/180)\n",
    "ALT=np.degrees(np.arcsin(sin_ALT))  #Horizontal coordinates\n",
    "cos_AZ=(np.sin(DEC*np.pi/180)-np.sin(LAT*np.pi/180)*np.sin(ALT*np.pi/180))/(np.cos(LAT*np.pi/180)*np.cos(ALT*np.pi/180))\n",
    "AZ=np.degrees(np.arccos(cos_AZ))\n",
    "print(\"---------------------------\")\n",
    "print(\"Longitude=\",long)\n",
    "print(\"Latitude=\",lat)\n",
    "print(\"Universal time=\", UT)\n",
    "print(\"---------------------------\")\n",
    "print(\"---------------------------\")\n",
    "print(\"Azimuth in  decimal degree is=\",AZ,\"degree\") #Horizontal coordinates\n",
    "print(\"Altitude in decimal degree is=\",ALT, \" degree\")"
   ]
  },
  {
   "cell_type": "code",
   "execution_count": 1037,
   "metadata": {},
   "outputs": [],
   "source": [
    "# Equator coordinate system to Horizontal coordinate system for Betelgeuse\n",
    "#On 11/11/2021 t 21:15 Taiwan time"
   ]
  },
  {
   "cell_type": "code",
   "execution_count": 1038,
   "metadata": {},
   "outputs": [],
   "source": [
    "import math\n",
    "import numpy as np\n",
    "year=2021\n",
    "month=11\n",
    "day=11\n",
    "hour=13  #UT 21-8=13\n",
    "minute=15\n",
    "second=30"
   ]
  },
  {
   "cell_type": "code",
   "execution_count": 1039,
   "metadata": {},
   "outputs": [
    {
     "name": "stdout",
     "output_type": "stream",
     "text": [
      "Universal Time coordinate 13.258333333333333\n"
     ]
    }
   ],
   "source": [
    "UT=13+15/60+30/3600 # Ut of Taiwan +8 hour Julian day start at midnight 12:00\n",
    "print(\"Universal Time coordinate\",UT)"
   ]
  },
  {
   "cell_type": "code",
   "execution_count": 1040,
   "metadata": {},
   "outputs": [
    {
     "data": {
      "text/plain": [
       "11.552430555555555"
      ]
     },
     "execution_count": 1040,
     "metadata": {},
     "output_type": "execute_result"
    }
   ],
   "source": [
    "day_fraction = day+(hour/24 )+ (minute / 1440)+ (second / 86400 )\n",
    "day_fraction"
   ]
  },
  {
   "cell_type": "code",
   "execution_count": 1047,
   "metadata": {},
   "outputs": [
    {
     "data": {
      "text/plain": [
       "2459530.0524305557"
      ]
     },
     "execution_count": 1047,
     "metadata": {},
     "output_type": "execute_result"
    }
   ],
   "source": [
    "day_fraction=day_fraction\n",
    "# The day is later to 15 october 1582. So\n",
    "A=math.floor(year/100)\n",
    "#math.floor(A)\n",
    "B=2-A+(A/4)\n",
    "C=math.trunc(365.25*year)# year is +ve. so,D=math.trunc(D)\n",
    "D=math.trunc(30.6001*(11+1))\n",
    "JD=B+C+D+day_fraction+1720994.5\n",
    "JD"
   ]
  },
  {
   "cell_type": "code",
   "execution_count": 1048,
   "metadata": {},
   "outputs": [
    {
     "name": "stdout",
     "output_type": "stream",
     "text": [
      "2459530.0524305557\n"
     ]
    }
   ],
   "source": [
    "year=2021\n",
    "months=11\n",
    "day=day_fraction #UT\n",
    "def date_to_jd(year,month,day):\n",
    "    # Convert a date to Julian Day.\n",
    "    # Algorithm from 'Practical Astronomy with your Calculator or Spreadsheet', \n",
    "    # 4th ed., Duffet-Smith and Zwart, 2011.\n",
    "    # This function extracted from https://gist.github.com/jiffyclub/1294443\n",
    "    if month == 1 or month == 2:\n",
    "        yearp = year - 1\n",
    "        monthp = month + 12\n",
    "    else:\n",
    "        yearp = year\n",
    "        monthp = month\n",
    "    # this checks where we are in relation to October 15, 1582, the beginning\n",
    "    # of the Gregorian calendar.\n",
    "    if ((year < 1582) or\n",
    "        (year == 1582 and month < 10) or\n",
    "        (year == 1582 and month == 10 and day < 15)):\n",
    "        # before start of Gregorian calendar\n",
    "        B = 0\n",
    "    else:\n",
    "        # after start of Gregorian calendar\n",
    "        A = math.trunc(yearp / 100.)\n",
    "        B = 2 - A + math.trunc(A / 4.)\n",
    "\n",
    "    if yearp < 0:\n",
    "        C = math.trunc((365.25 * yearp) - 0.75)\n",
    "    else:\n",
    "        C = math.trunc(365.25 * yearp)\n",
    "    D = math.trunc(30.6001 * (monthp + 1))\n",
    "    jd = B + C + D + day + 1720994.5\n",
    "    return jd \n",
    "jd=date_to_jd(year,month,day)\n",
    "print(jd)"
   ]
  },
  {
   "cell_type": "code",
   "execution_count": 1049,
   "metadata": {},
   "outputs": [
    {
     "data": {
      "text/plain": [
       "2459530.0524305557"
      ]
     },
     "execution_count": 1049,
     "metadata": {},
     "output_type": "execute_result"
    }
   ],
   "source": [
    "jd"
   ]
  },
  {
   "cell_type": "code",
   "execution_count": 1050,
   "metadata": {},
   "outputs": [
    {
     "data": {
      "text/plain": [
       "7985.05243055569"
      ]
     },
     "execution_count": 1050,
     "metadata": {},
     "output_type": "execute_result"
    }
   ],
   "source": [
    "J2000=(jd-2451545.0)\n",
    "J2000"
   ]
  },
  {
   "cell_type": "code",
   "execution_count": 1051,
   "metadata": {},
   "outputs": [
    {
     "name": "stdout",
     "output_type": "stream",
     "text": [
      "0.21861882082287995 year\n"
     ]
    }
   ],
   "source": [
    "#Julian century (t)\n",
    "t=(jd-2451545.0)/36525\n",
    "print(t,\"year\")"
   ]
  },
  {
   "cell_type": "code",
   "execution_count": 1052,
   "metadata": {},
   "outputs": [
    {
     "name": "stdout",
     "output_type": "stream",
     "text": [
      "UT= 13.258333333333333 hour\n"
     ]
    }
   ],
   "source": [
    "# calculation of Local Sideral Time(lst)\n",
    "d=J2000\n",
    "long= 121.1935744444# longitude of observing site 121deg 11min 36.868sec\n",
    "lat= 24.9704647222 # latitude of observing sites 24 deg 58 min 13.673 sec\n",
    "UT= UT \n",
    "print(\"UT=\",UT,\"hour\")"
   ]
  },
  {
   "cell_type": "code",
   "execution_count": 1053,
   "metadata": {},
   "outputs": [
    {
     "name": "stdout",
     "output_type": "stream",
     "text": [
      "LST= 0.767973862509681\n"
     ]
    }
   ],
   "source": [
    "theta0=(6.697374558 + (2400.051336*t)+ (0.000025862*t*t))%24 #hour\n",
    "t0=theta0\n",
    "gst=t0+UT*1.00273790935\n",
    "longitude= long/15\n",
    "LST=gst+longitude # longitude of observing site\n",
    "lst=LST #LST>0, subtract 24 \n",
    "print('LST=',lst-24) "
   ]
  },
  {
   "cell_type": "code",
   "execution_count": 1054,
   "metadata": {},
   "outputs": [
    {
     "name": "stdout",
     "output_type": "stream",
     "text": [
      "Local sidereal Time= 10.971547464323521\n",
      "LST= 0.731436497621568 hour\n"
     ]
    }
   ],
   "source": [
    "LST = (100.46 + (0.985647 * d) + long + 15*UT)%360 # http://www.stargazing.net/kepler/altaz.html#twig00\n",
    "#d is the days from J2000, including the fraction ofa day\n",
    "#UT is the universal time in decimal hours\n",
    "#long is your longitude in decimal degrees, East positive.\n",
    "print(\"Local sidereal Time=\",LST)\n",
    "print(\"LST=\",LST/15,\"hour\")  #change to degree\n",
    "#print(\"LST= 0 hour 42 min 20.19 sec \")"
   ]
  },
  {
   "cell_type": "code",
   "execution_count": 1055,
   "metadata": {},
   "outputs": [
    {
     "name": "stdout",
     "output_type": "stream",
     "text": [
      "RA of the bet 88.792939\n",
      "DEC of the bet 7.407064\n"
     ]
    },
    {
     "data": {
      "text/plain": [
       "88.792939"
      ]
     },
     "execution_count": 1055,
     "metadata": {},
     "output_type": "execute_result"
    }
   ],
   "source": [
    "RAbet= (5+(55/60)+(10.30536/3600)) # RA of the betelgeuse from http://simbad.u-strasbg.fr/simbad/sim-basic?Ident=betelgeuse&submit=SIMBAD+search 5h 55 min 10.3056sec\n",
    "RA=RAbet*15 #decimal degree\n",
    "print(\"RA of the bet\",RA)\n",
    "DECbet= (7+24/60+25.4304/3600)\n",
    "print(\"DEC of the bet\",DECbet)\n",
    "RA"
   ]
  },
  {
   "cell_type": "code",
   "execution_count": 1056,
   "metadata": {},
   "outputs": [
    {
     "name": "stdout",
     "output_type": "stream",
     "text": [
      "Hour angle in decimal degree= -77.82139153567648\n",
      " Hour angle= 282.17860846432353\n"
     ]
    }
   ],
   "source": [
    "HA=LST-RA\n",
    "HA\n",
    "print(\"Hour angle in decimal degree=\", HA)  \n",
    "HAA=HA+360  #HA<360\n",
    "print(\" Hour angle=\", HAA) \n"
   ]
  },
  {
   "cell_type": "code",
   "execution_count": 1057,
   "metadata": {},
   "outputs": [
    {
     "name": "stdout",
     "output_type": "stream",
     "text": [
      "---------------------------\n",
      "Longitude= 121.1935744444\n",
      "Latitude= 24.9704647222\n",
      "Universal time= 13.258333333333333\n",
      "---------------------------\n",
      "---------------------------\n",
      "Azimuth in  decimal degree is= 88.31277222499901\n",
      "Altitude in decimal degree is= 14.126733721331217 \n"
     ]
    }
   ],
   "source": [
    "LAT=24.970596667 #24d 58' 14.148''\n",
    "DEC=DECbet\n",
    "HA=HAA\n",
    "sin_ALT=np.sin(DEC*np.pi/180)*np.sin(LAT*np.pi/180)+ np.cos(DEC*np.pi/180)*np.cos(LAT*np.pi/180)*np.cos(HA*np.pi/180)\n",
    "ALT=np.degrees(np.arcsin(sin_ALT))  #Horizontal coordinates\n",
    "cos_AZ=(np.sin(DEC*np.pi/180)-np.sin(LAT*np.pi/180)*np.sin(ALT*np.pi/180))/(np.cos(LAT*np.pi/180)*np.cos(ALT*np.pi/180))\n",
    "AZ=np.degrees(np.arccos(cos_AZ))\n",
    "print(\"---------------------------\")\n",
    "print(\"Longitude=\",long)\n",
    "print(\"Latitude=\",lat)\n",
    "print(\"Universal time=\", UT)\n",
    "print(\"---------------------------\")\n",
    "print(\"---------------------------\")\n",
    "print(\"Azimuth in  decimal degree is=\",AZ) #Horizontal coordinates\n",
    "print(\"Altitude in decimal degree is=\",ALT,\"\")"
   ]
  },
  {
   "cell_type": "code",
   "execution_count": null,
   "metadata": {},
   "outputs": [],
   "source": []
  },
  {
   "cell_type": "code",
   "execution_count": null,
   "metadata": {},
   "outputs": [],
   "source": []
  },
  {
   "cell_type": "code",
   "execution_count": null,
   "metadata": {},
   "outputs": [],
   "source": []
  },
  {
   "cell_type": "code",
   "execution_count": null,
   "metadata": {},
   "outputs": [],
   "source": []
  },
  {
   "cell_type": "code",
   "execution_count": null,
   "metadata": {},
   "outputs": [],
   "source": []
  },
  {
   "cell_type": "code",
   "execution_count": null,
   "metadata": {},
   "outputs": [],
   "source": []
  },
  {
   "cell_type": "code",
   "execution_count": null,
   "metadata": {},
   "outputs": [],
   "source": []
  },
  {
   "cell_type": "code",
   "execution_count": null,
   "metadata": {},
   "outputs": [],
   "source": []
  },
  {
   "cell_type": "code",
   "execution_count": null,
   "metadata": {},
   "outputs": [],
   "source": []
  },
  {
   "cell_type": "code",
   "execution_count": null,
   "metadata": {},
   "outputs": [],
   "source": []
  },
  {
   "cell_type": "code",
   "execution_count": null,
   "metadata": {},
   "outputs": [],
   "source": []
  },
  {
   "cell_type": "code",
   "execution_count": null,
   "metadata": {},
   "outputs": [],
   "source": []
  },
  {
   "cell_type": "code",
   "execution_count": null,
   "metadata": {},
   "outputs": [],
   "source": []
  },
  {
   "cell_type": "code",
   "execution_count": null,
   "metadata": {},
   "outputs": [],
   "source": []
  },
  {
   "cell_type": "code",
   "execution_count": null,
   "metadata": {},
   "outputs": [],
   "source": []
  }
 ],
 "metadata": {
  "kernelspec": {
   "display_name": "Python 3",
   "language": "python",
   "name": "python3"
  },
  "language_info": {
   "codemirror_mode": {
    "name": "ipython",
    "version": 3
   },
   "file_extension": ".py",
   "mimetype": "text/x-python",
   "name": "python",
   "nbconvert_exporter": "python",
   "pygments_lexer": "ipython3",
   "version": "3.8.5"
  }
 },
 "nbformat": 4,
 "nbformat_minor": 4
}
